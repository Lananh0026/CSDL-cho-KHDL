{
 "cells": [
  {
   "attachments": {
    "image.png": {
     "image/png": "[encoded data removed]"
    }
   },
   "cell_type": "markdown",
   "metadata": {},
   "source": [
    "## Câu 1: Hãy viết câu lệnh SQLđể tính sự tương quan giữaAvà B theo công thức sau:\n",
    "![image.png](attachment:image.png)\n"
   ]
  },
  {
   "cell_type": "code",
   "execution_count": 5,
   "metadata": {},
   "outputs": [
    {
     "name": "stdout",
     "output_type": "stream",
     "text": [
      "Hệ số tương quan: 0.31524416249564025\n"
     ]
    }
   ],
   "source": [
    "import sqlite3\n",
    "import math\n",
    "\n",
    "# Kết nối với database\n",
    "conn = sqlite3.connect('Database_c3.db')\n",
    "cursor = conn.cursor()\n",
    "\n",
    "# Tạo bảng (nếu chưa tồn tại)\n",
    "cursor.execute(\"\"\"\n",
    "CREATE TABLE IF NOT EXISTS MyTable (\n",
    "    A REAL,\n",
    "    B REAL\n",
    ")\n",
    "\"\"\")\n",
    "\n",
    "# Xoá dữ liệu cũ trong bảng (cho sạch sẽ khi chạy lại nhiều lần)\n",
    "cursor.execute(\"DELETE FROM MyTable\")\n",
    "\n",
    "# Chèn dữ liệu ví dụ vào bảng\n",
    "data = [\n",
    "    (8, 6),\n",
    "    (2, 0),\n",
    "    (0, 4),\n",
    "    (2, 1),\n",
    "    (2, 8)\n",
    "]\n",
    "cursor.executemany(\"INSERT INTO MyTable (A, B) VALUES (?, ?)\", data)\n",
    "conn.commit()\n",
    "\n",
    "# Câu lệnh SQL tính hệ số tương quan\n",
    "query = \"\"\"\n",
    "SELECT \n",
    "    (COUNT(*) * SUM(A * B) - (SUM(A) * SUM(B))) / \n",
    "    (SQRT(COUNT(*) * SUM(A * A) - SUM(A) * SUM(A)) * \n",
    "     SQRT(COUNT(*) * SUM(B * B) - SUM(B) * SUM(B))) AS correlation\n",
    "FROM MyTable\n",
    "\"\"\"\n",
    "\n",
    "cursor.execute(query)\n",
    "result = cursor.fetchone()[0]\n",
    "print(f\"Hệ số tương quan: {result}\")\n",
    "\n",
    "# Đóng kết nối\n",
    "conn.close()\n"
   ]
  },
  {
   "cell_type": "markdown",
   "metadata": {},
   "source": [
    "### Câu 2: Một công ty oto đang kiểm tra 3 loại mẫu mới A, B và C trong 4 ngày, và chấm điểm theo thang từ 1 đến 10 điểm cho mỗi ngày với bảng sau. Liệu có sự khác biệt đáng kể giữa các mẫu dựa trên điểm số mà chúng nhận được trong 4 ngày thử nghiệm không? Kết quả thử nghiệm phụ thuộc vào ngày hay phụ thuộc vào mẫu xe? Hãy chuyển đổi dữ liệu sang dạng quan hệ và thực hiện kiểm tra χ2"
   ]
  },
  {
   "cell_type": "markdown",
   "metadata": {},
   "source": [
    "#### Chuyển đổi dữ liệu sang dạng quan hệ"
   ]
  },
  {
   "cell_type": "code",
   "execution_count": null,
   "metadata": {},
   "outputs": [
    {
     "name": "stdout",
     "output_type": "stream",
     "text": [
      "('Day1', 'A', 8.0)\n",
      "('Day1', 'B', 9.0)\n",
      "('Day1', 'C', 7.0)\n",
      "('Day2', 'A', 7.5)\n",
      "('Day2', 'B', 8.5)\n",
      "('Day2', 'C', 7.0)\n",
      "('Day3', 'A', 6.0)\n",
      "('Day3', 'B', 7.0)\n",
      "('Day3', 'C', 8.0)\n",
      "('Day4', 'A', 7.0)\n",
      "('Day4', 'B', 6.0)\n",
      "('Day4', 'C', 5.0)\n"
     ]
    }
   ],
   "source": [
    "import sqlite3\n",
    "\n",
    "# Kết nối CSDL\n",
    "conn = sqlite3.connect('car_scores.db')\n",
    "cursor = conn.cursor()\n",
    "\n",
    "# Tạo bảng (nếu chưa có)\n",
    "cursor.execute('''\n",
    "    CREATE TABLE IF NOT EXISTS Bang2 (\n",
    "        Day TEXT,\n",
    "        Model TEXT,\n",
    "        Score REAL\n",
    "    )\n",
    "''')\n",
    "\n",
    "# Dữ liệu cần chèn\n",
    "data = [\n",
    "    ('Day1', 'A', 8), ('Day1', 'B', 9), ('Day1', 'C', 7),\n",
    "    ('Day2', 'A', 7.5), ('Day2', 'B', 8.5), ('Day2', 'C', 7),\n",
    "    ('Day3', 'A', 6), ('Day3', 'B', 7), ('Day3', 'C', 8),\n",
    "    ('Day4', 'A', 7), ('Day4', 'B', 6), ('Day4', 'C', 5)\n",
    "]\n",
    "\n",
    "# Thêm dữ liệu mới\n",
    "cursor.executemany(\"INSERT INTO Bang2 VALUES (?, ?, ?)\", data)\n",
    "\n",
    "# Lấy dữ liệu và in ra\n",
    "cursor.execute(\"SELECT * FROM Bang2\")\n",
    "rows = cursor.fetchall()\n",
    "for row in rows:\n",
    "    print(row)\n",
    "\n",
    "conn.commit()\n",
    "conn.close()\n"
   ]
  },
  {
   "cell_type": "markdown",
   "metadata": {},
   "source": [
    "####  thực hiện kiểm tra χ2"
   ]
  },
  {
   "cell_type": "code",
   "execution_count": null,
   "metadata": {},
   "outputs": [
    {
     "name": "stdout",
     "output_type": "stream",
     "text": [
      "Chi-squared statistic: 3.5952380952380953\n"
     ]
    }
   ],
   "source": [
    "import sqlite3\n",
    "import pandas as pd\n",
    "\n",
    "# Kết nối đến SQLite database\n",
    "conn = sqlite3.connect('Database_c3.db')\n",
    "cursor = conn.cursor()\n",
    "\n",
    "# B Tạo bảng Bang2_Cat có thêm cột 'Category' phân loại theo Score\n",
    "cursor.executescript(\"\"\"\n",
    "\n",
    "-- Tạo bảng mới Bang2_Cat từ Bang2 và thêm cột Category\n",
    "CREATE TABLE Bang2_Cat AS\n",
    "SELECT *,\n",
    "    CASE\n",
    "        WHEN Score <= 6 THEN 'Low'\n",
    "        WHEN Score <= 8 THEN 'Medium'\n",
    "        ELSE 'High'\n",
    "    END AS Category\n",
    "FROM Bang2;\n",
    "\"\"\")\n",
    "\n",
    "#  Tính thống kê Chi-squared \n",
    "query = \"\"\"\n",
    "WITH \n",
    "-- Tính tần suất thực tế (Observed) theo Day và Category\n",
    "Observed AS (\n",
    "    SELECT Day, Category, COUNT(*) AS observed\n",
    "    FROM Bang2_Cat\n",
    "    GROUP BY Day, Category\n",
    "),\n",
    "\n",
    "-- Tính tổng số dòng theo từng Day\n",
    "RowTotals AS (\n",
    "    SELECT Day, COUNT(*) AS row_total\n",
    "    FROM Bang2_Cat\n",
    "    GROUP BY Day\n",
    "),\n",
    "\n",
    "-- Tính tổng số cột theo từng Category\n",
    "ColTotals AS (\n",
    "    SELECT Category, COUNT(*) AS col_total\n",
    "    FROM Bang2_Cat\n",
    "    GROUP BY Category\n",
    "),\n",
    "\n",
    "--  Tính tổng toàn bảng\n",
    "GrandTotal AS (\n",
    "    SELECT COUNT(*) AS grand_total FROM Bang2_Cat\n",
    "),\n",
    "\n",
    "--  Tính giá trị kỳ vọng (expected) theo công thức:\n",
    "-- expected = (row_total * col_total) / grand_total\n",
    "ExpectedTable AS (\n",
    "    SELECT \n",
    "        O.Day,\n",
    "        O.Category,\n",
    "        O.observed,\n",
    "        (R.row_total * C.col_total * 1.0) / G.grand_total AS expected\n",
    "    FROM Observed O\n",
    "    JOIN RowTotals R ON O.Day = R.Day\n",
    "    JOIN ColTotals C ON O.Category = C.Category\n",
    "    JOIN GrandTotal G\n",
    ")\n",
    "\n",
    "-- Tính thống kê Chi-squared theo công thức:\n",
    "-- SUM((observed - expected)^2 / expected)\n",
    "SELECT SUM(\n",
    "    ((observed - expected) * (observed - expected)) / expected\n",
    ") AS chi_squared\n",
    "FROM ExpectedTable;\n",
    "\"\"\"\n",
    "\n",
    "# Thực thi truy vấn và lấy kết quả thống kê Chi-squared\n",
    "cursor.execute(query)\n",
    "chi_squared = cursor.fetchone()[0]\n",
    "\n",
    "# In kết quả\n",
    "print(f\"Chi-squared statistic: {chi_squared}\")\n",
    "\n",
    "# Đóng kết nối SQLite\n",
    "conn.close()\n"
   ]
  },
  {
   "cell_type": "markdown",
   "metadata": {},
   "source": [
    "H0 (giả thuyết không): Không có mối liên hệ giữa \"Day\" và \"Category\" (phân phối điểm số đồng đều giữa các ngày).\n",
    "\n",
    "H1 (giả thuyết đối): Có mối liên hệ giữa \"Day\" và \"Category\" (điểm số phụ thuộc vào ngày thử nghiệm)."
   ]
  },
  {
   "cell_type": "code",
   "execution_count": 8,
   "metadata": {},
   "outputs": [
    {
     "name": "stdout",
     "output_type": "stream",
     "text": [
      "Chi-squared critical value (α=0.05, df=6): 12.591587243743977\n"
     ]
    }
   ],
   "source": [
    "from scipy.stats import chi2\n",
    "alpha = 0.05\n",
    "critical_value = chi2.ppf(1 - alpha, df=6) #(df) = (số hàng - 1) × (số cột - 1)\n",
    "print(f\"Chi-squared critical value (α=0.05, df=6): {critical_value}\")\n"
   ]
  },
  {
   "cell_type": "markdown",
   "metadata": {},
   "source": [
    "Do chi statistic< chi value .Suy ra không đủ bằng chứng để bác bỏ H0\n",
    "\n",
    "Không có sự khác biệt đáng kể giữa các mẫu điểm số theo từng ngày.\n",
    "\n",
    "Kết quả thử nghiệm không phụ thuộc vào ngày – tức là điểm số của các mẫu xe không thay đổi có ý nghĩa giữa các ngày thử nghiệm."
   ]
  },
  {
   "cell_type": "markdown",
   "metadata": {},
   "source": [
    "### Câu 3: Bảng flights(departure_time,…) chứa các giá trị thời gian dưới dạng số nguyên (ví dụ: 830 cho 8:30AM, 1445 cho 2:45 PM). Hãy chuyển đổi các giá trị này thành định dạng thời gian"
   ]
  },
  {
   "cell_type": "code",
   "execution_count": 9,
   "metadata": {},
   "outputs": [
    {
     "name": "stdout",
     "output_type": "stream",
     "text": [
      "   id  departure_time departure_time_formatted\n",
      "0   1             830                    08:30\n",
      "1   2            1445                    14:45\n",
      "2   3              30                    00:30\n",
      "3   4            1230                    12:30\n",
      "4   5             905                    09:05\n"
     ]
    }
   ],
   "source": [
    "import sqlite3\n",
    "import pandas as pd\n",
    "\n",
    "# Kết nối hoặc tạo mới cơ sở dữ liệu SQLite\n",
    "conn = sqlite3.connect(\"Database_c3.db\")\n",
    "cursor = conn.cursor()\n",
    "\n",
    "# Tạo bảng \n",
    "cursor.execute(\"\"\"\n",
    "    CREATE TABLE thoigian (\n",
    "        id INTEGER PRIMARY KEY,\n",
    "        departure_time INTEGER\n",
    "    )\n",
    "\"\"\")\n",
    "\n",
    "# (2) Thêm dữ liệu ví dụ\n",
    "sample_data = [\n",
    "    (830,), (1445,), (30,), (1230,), (905,)\n",
    "]\n",
    "cursor.executemany(\"INSERT INTO thoigian (departure_time) VALUES (?)\", sample_data)\n",
    "conn.commit()\n",
    "\n",
    "# (3) Truy vấn và chuyển định dạng departure_time thành HH:MM\n",
    "query = \"\"\"\n",
    "    SELECT \n",
    "        id,\n",
    "        departure_time,\n",
    "        printf('%02d:%02d', departure_time / 100, departure_time % 100) AS departure_time_formatted\n",
    "    FROM thoigian\n",
    "\"\"\"\n",
    "\n",
    "df = pd.read_sql_query(query, conn)\n",
    "\n",
    "# (4) Hiển thị kết quả\n",
    "print(df)\n",
    "\n",
    "conn.close()\n"
   ]
  },
  {
   "cell_type": "markdown",
   "metadata": {},
   "source": [
    "### Câu 4: Viết truy vấn SQL để tìm các ngoại lệ bằng cách sử dụng MAD. Một quy tắc chung là xem xét các giá trị ngoại lệ lớn hơn 1,5 lần so với giá trị MAD, trong đó x là số độ lệch chuẩn mà ta coi là có ý nghĩa"
   ]
  },
  {
   "cell_type": "code",
   "execution_count": 10,
   "metadata": {},
   "outputs": [
    {
     "name": "stdout",
     "output_type": "stream",
     "text": [
      "Median: 7.5\n",
      "MAD: 2.4\n",
      "\n",
      "Ngoại lệ (outliers):\n",
      "   id  score\n",
      "0   6   20.0\n"
     ]
    }
   ],
   "source": [
    "import sqlite3\n",
    "import pandas as pd\n",
    "\n",
    "# Tạo database mới\n",
    "conn = sqlite3.connect(\"mad_numeric.db\")\n",
    "cursor = conn.cursor()\n",
    "\n",
    "# Tạo bảng chỉ có số\n",
    "cursor.execute(\"DROP TABLE IF EXISTS Scores\")\n",
    "cursor.execute(\"\"\"\n",
    "    CREATE TABLE Scores (\n",
    "        id INTEGER PRIMARY KEY,\n",
    "        score REAL\n",
    "    )\n",
    "\"\"\")\n",
    "\n",
    "# Chèn dữ liệu điểm số\n",
    "scores = [\n",
    "    (1, 5),\n",
    "    (2, 8),\n",
    "    (3, 9),\n",
    "    (4, 10),\n",
    "    (5, 6),\n",
    "    (6, 20),    \n",
    "    (7, 7),\n",
    "    (8, 6),\n",
    "    (9, 8),\n",
    "    (10, 7)\n",
    "]\n",
    "cursor.executemany(\"INSERT INTO Scores VALUES (?, ?)\", scores)\n",
    "conn.commit()\n",
    "\n",
    "# Bước 1: Tính median\n",
    "median_query = \"\"\"\n",
    "SELECT AVG(score) AS median_score\n",
    "FROM (\n",
    "    SELECT score\n",
    "    FROM Scores\n",
    "    ORDER BY score\n",
    "    LIMIT 2 - (SELECT COUNT(*) FROM Scores) % 2\n",
    "    OFFSET (SELECT (COUNT(*) - 1) / 2 FROM Scores)\n",
    ") AS MedianSub\n",
    "\"\"\"\n",
    "median_score = cursor.execute(median_query).fetchone()[0]\n",
    "\n",
    "# Bước 2: Tính MAD\n",
    "mad_query = f\"\"\"\n",
    "SELECT AVG(ABS(score - {median_score})) AS mad_value\n",
    "FROM Scores\n",
    "\"\"\"\n",
    "mad_value = cursor.execute(mad_query).fetchone()[0]\n",
    "\n",
    "# Bước 3: Tìm giá trị ngoại lệ\n",
    "outlier_query = f\"\"\"\n",
    "SELECT *\n",
    "FROM Scores\n",
    "WHERE ABS(score - {median_score}) > 1.5 * {mad_value}\n",
    "\"\"\"\n",
    "df_outliers = pd.read_sql_query(outlier_query, conn)\n",
    "\n",
    "# In kết quả\n",
    "print(f\"Median: {median_score}\")\n",
    "print(f\"MAD: {mad_value}\")\n",
    "print(\"\\nNgoại lệ (outliers):\")\n",
    "print(df_outliers)\n",
    "\n",
    "conn.close()\n"
   ]
  },
  {
   "cell_type": "markdown",
   "metadata": {},
   "source": [
    "### Câu 5: Hãy xác định liệu hai người trong bảng Patient(last_name, weight, height) có phải là một người hay không bằng cách sử dụng khoảng cách kết hợp Boolean trên “last_name” và “weight”"
   ]
  },
  {
   "cell_type": "code",
   "execution_count": 13,
   "metadata": {},
   "outputs": [
    {
     "name": "stdout",
     "output_type": "stream",
     "text": [
      "Các cặp bệnh nhân có khả năng là cùng một người:\n",
      "   id1  id2 last_name  weight  height last_name  weight  height  match_name  \\\n",
      "0    1    2       Lan    60.0   160.0       Lan    60.0   165.0           1   \n",
      "\n",
      "   match_weight  match_score  \n",
      "0             1          1.0  \n"
     ]
    }
   ],
   "source": [
    "import sqlite3\n",
    "import pandas as pd\n",
    "\n",
    "# Kết nối tới CSDL SQLite\n",
    "conn = sqlite3.connect(\"patients_boolean.db\")\n",
    "cursor = conn.cursor()\n",
    "\n",
    "# Tạo bảng Patient và thêm dữ liệu mẫu\n",
    "cursor.execute(\"DROP TABLE IF EXISTS Patient\")\n",
    "cursor.execute(\"\"\"\n",
    "    CREATE TABLE Patient (\n",
    "        last_name TEXT,\n",
    "        weight REAL,\n",
    "        height REAL\n",
    "    )\n",
    "\"\"\")\n",
    "\n",
    "data = [\n",
    "    ('Lan', 60, 160),\n",
    "    ('Lan', 60, 165),\n",
    "    ('Mai', 55, 165),\n",
    "    ('Trang', 60, 160),\n",
    "    ('Lan', 58, 160)\n",
    "]\n",
    "cursor.executemany(\"INSERT INTO Patient VALUES (?, ?, ?)\", data)\n",
    "conn.commit()\n",
    "\n",
    "query = \"\"\"\n",
    "SELECT \n",
    "    p1.rowid AS id1,\n",
    "    p2.rowid AS id2,\n",
    "    p1.last_name, p1.weight, p1.height,\n",
    "    p2.last_name, p2.weight, p2.height,\n",
    "\n",
    "    CASE WHEN p1.last_name = p2.last_name THEN 1 ELSE 0 END AS match_name,\n",
    "    CASE WHEN p1.weight = p2.weight THEN 1 ELSE 0 END AS match_weight,\n",
    "\n",
    "    (CASE WHEN p1.last_name = p2.last_name THEN 1 ELSE 0 END + \n",
    "     CASE WHEN p1.weight = p2.weight THEN 1 ELSE 0 END) / 2.0 AS match_score\n",
    "\n",
    "FROM Patient p1\n",
    "JOIN Patient p2 ON p1.rowid < p2.rowid\n",
    "WHERE (CASE WHEN p1.last_name = p2.last_name THEN 1 ELSE 0 END + \n",
    "       CASE WHEN p1.weight = p2.weight THEN 1 ELSE 0 END) / 2.0 >= 0.7;\n",
    "\"\"\"\n",
    "\n",
    "# Đọc kết quả vào DataFrame\n",
    "df_matches = pd.read_sql_query(query, conn)\n",
    "\n",
    "# In kết quả\n",
    "print(\"Các cặp bệnh nhân có khả năng là cùng một người:\")\n",
    "print(df_matches)\n",
    "\n",
    "conn.close()\n"
   ]
  }
 ],
 "metadata": {
  "kernelspec": {
   "display_name": "Python 3",
   "language": "python",
   "name": "python3"
  },
  "language_info": {
   "codemirror_mode": {
    "name": "ipython",
    "version": 3
   },
   "file_extension": ".py",
   "mimetype": "text/x-python",
   "name": "python",
   "nbconvert_exporter": "python",
   "pygments_lexer": "ipython3",
   "version": "3.13.2"
  }
 },
 "nbformat": 4,
 "nbformat_minor": 2
}
